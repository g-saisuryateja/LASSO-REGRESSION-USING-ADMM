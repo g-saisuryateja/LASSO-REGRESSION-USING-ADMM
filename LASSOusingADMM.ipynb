{
 "cells": [
  {
   "cell_type": "code",
   "execution_count": 1,
   "metadata": {},
   "outputs": [],
   "source": [
    "import numpy as np\n",
    "from numpy.linalg import norm \n",
    "import scipy.sparse\n",
    "from scipy.sparse import identity\n",
    "from scipy import linalg\n",
    "from scipy.sparse import csr_matrix\n",
    "import math\n",
    "import matplotlib.pyplot as plt"
   ]
  },
  {
   "cell_type": "code",
   "execution_count": 2,
   "metadata": {},
   "outputs": [],
   "source": [
    "def sos(A,b,x):\n",
    "    s = np.dot(A, x) - b\n",
    "    so = np.dot(s.T,s)\n",
    "    sos = int(so)\n",
    "    return sos"
   ]
  },
  {
   "cell_type": "code",
   "execution_count": 3,
   "metadata": {},
   "outputs": [],
   "source": [
    "def objective(A, b , lamda,x,z):\n",
    "    p = (1/2)*sos(A,b,x) + lamda*norm(z,1)\n",
    "    return p"
   ]
  },
  {
   "cell_type": "code",
   "execution_count": 4,
   "metadata": {},
   "outputs": [],
   "source": [
    "def shrinkage(x,kappa):\n",
    "    z = np.zeros(x.shape)\n",
    "    for i in range(x.size):\n",
    "        z[i] = max(0, x[i][0]-kappa) - max(0, -x[i][0]-kappa)\n",
    "    return z"
   ]
  },
  {
   "cell_type": "code",
   "execution_count": 5,
   "metadata": {},
   "outputs": [],
   "source": [
    "def factor(A,rho):\n",
    "    (m,n) = A.shape\n",
    "    if(m>=n):\n",
    "        t = np.dot(A.T,A) + rho*identity(n)\n",
    "        L = linalg.cholesky(t,lower=True)\n",
    "    else:\n",
    "        t = identity(m) + (1/rho*np.dot(A,A.T))\n",
    "        L = linalg.cholesky(t,lower=True)\n",
    "    U  = L.T\n",
    "    return L,U"
   ]
  },
  {
   "cell_type": "code",
   "execution_count": 6,
   "metadata": {},
   "outputs": [],
   "source": [
    "class historyfunc:\n",
    "  def __init__(self,objval,r_norm,s_norm,eps_pri,eps_dual):\n",
    "    self.objval = objval\n",
    "    self.r_norm = r_norm\n",
    "    self.s_norm = s_norm\n",
    "    self.eps_pri = eps_pri\n",
    "    self.eps_dual = eps_dual"
   ]
  },
  {
   "cell_type": "code",
   "execution_count": 7,
   "metadata": {},
   "outputs": [],
   "source": [
    "def lasso(A, b , lamda,rho,alpha):\n",
    "    QUIET    = False\n",
    "    MAX_ITER = 1000\n",
    "    ABSTOL   = 1e-4\n",
    "    RELTOL   = 1e-2\n",
    "    (m,n) = A.shape\n",
    "    Atb = np.dot(A.T,b);\n",
    "    x = np.zeros([n, 1], dtype=float)\n",
    "    z = np.zeros([n, 1], dtype=float)\n",
    "    u = np.zeros([n, 1], dtype=float)\n",
    "    [L, U] = factor(A, rho)\n",
    "    objval = np.zeros([MAX_ITER, 1], dtype=float)\n",
    "    r_norm = np.zeros([MAX_ITER, 1], dtype=float)\n",
    "    s_norm = np.zeros([MAX_ITER, 1], dtype=float)\n",
    "    eps_pri = np.zeros([MAX_ITER, 1], dtype=float)\n",
    "    eps_dual = np.zeros([MAX_ITER, 1], dtype=float)\n",
    "    if not QUIET:\n",
    "        print('iter\\tr_norm\\t\\teps_pri\\t\\ts_norm\\t\\teps_dual\\tobjective')\n",
    "    for k in range(MAX_ITER):\n",
    "        \n",
    "        #updating x \n",
    "        \n",
    "        q = Atb + rho*(z - u)\n",
    "        if(m>n):\n",
    "         \n",
    "            x = np.dot(np.linalg.inv(U),np.dot(np.linalg.inv(L),q))\n",
    "        else:\n",
    "      \n",
    "            x=(q/rho)-(np.dot(A.T,np.dot(np.linalg.inv(U),np.dot(np.linalg.inv(L),np.dot(A,q))))/rho**2)\n",
    "\n",
    "        # z update\n",
    "        zold = z\n",
    "        x_hat = alpha*x + (1-alpha)*zold\n",
    "   \n",
    "        z = shrinkage((x_hat + u),lamda/rho)\n",
    "   \n",
    "        # u update\n",
    "        u = u + (x_hat - z)\n",
    "      \n",
    "        # diagnostics\n",
    "     \n",
    "        history = historyfunc(objval,r_norm,s_norm,eps_pri,eps_dual)\n",
    "        \n",
    "        history.objval[k] = objective(A,b,lamda,x,z)\n",
    "        \n",
    "        history.r_norm[k] = norm(x-z)\n",
    "        history.s_norm[k] = norm(-rho*(z - zold))\n",
    "        \n",
    "        history.eps_pri[k] = math.sqrt(n)*ABSTOL + RELTOL*max(norm(x), norm(-z))\n",
    "        history.eps_dual[k]= math.sqrt(n)*ABSTOL + RELTOL*(norm(rho*u))\n",
    "        if not QUIET:\n",
    "            print(k,'\\t',history.r_norm[k],'\\t',history.eps_pri[k],'\\t',history.s_norm[k],'\\t',history.eps_dual[k],'\\t',history.objval[k])\n",
    "            \n",
    "        if history.r_norm[k] < history.eps_pri[k] and history.s_norm[k] < history.eps_dual[k]:\n",
    "            break\n",
    "    return x,history"
   ]
  },
  {
   "cell_type": "code",
   "execution_count": 8,
   "metadata": {},
   "outputs": [],
   "source": [
    "def temp(A,n):\n",
    "    A = np.square(A)\n",
    "    s = np.sum(A,axis=0)\n",
    "    ss = np.sqrt(s)\n",
    "    sss=np.divide(1,ss)\n",
    "    spd = ((scipy.sparse.spdiags(sss.T,0,n,n)).toarray())\n",
    "    A = np.dot(A,spd)\n",
    "    return A"
   ]
  },
  {
   "cell_type": "code",
   "execution_count": 9,
   "metadata": {},
   "outputs": [],
   "source": [
    "def temp2(A,x,m):\n",
    "    ax = np.dot(A,x)\n",
    "    r = np.random.randn(m,1)\n",
    "    s = math.sqrt(0.001)\n",
    "    m = s*r\n",
    "    b = np.add(ax,m)\n",
    "    return b"
   ]
  },
  {
   "cell_type": "code",
   "execution_count": 10,
   "metadata": {},
   "outputs": [],
   "source": [
    "#m = 1500\n",
    "#n = 5000\n",
    "#p = 100/n\n",
    "#x = (scipy.sparse.random(n, 1, density=p)).toarray()\n",
    "#A = np.random.randn(m,n)\n",
    "#A = temp(A,n)\n",
    "\n",
    "#b = temp2(A,x,m)\n",
    "\n",
    "#Atb=np.dot((A.T),b)\n",
    "\n",
    "#lambda_max=norm(Atb)\n",
    "#lamda=0.1*lambda_max\n",
    "#[x,history] = lasso(A, b, lamda, 1.0, 1.0)"
   ]
  },
  {
   "cell_type": "code",
   "execution_count": 11,
   "metadata": {},
   "outputs": [
    {
     "name": "stdout",
     "output_type": "stream",
     "text": [
      "iter\tr_norm\t\teps_pri\t\ts_norm\t\teps_dual\tobjective\n",
      "0 \t [3.7047662] \t [0.04652633] \t [0.72499527] \t [0.04411873] \t [3.15813365]\n",
      "1 \t [2.26535912] \t [0.04088321] \t [1.79598694] \t [0.0653367] \t [9.79452236]\n",
      "2 \t [1.09575632] \t [0.05287333] \t [2.03250578] \t [0.07339211] \t [14.80334227]\n",
      "3 \t [0.80503393] \t [0.06867643] \t [1.72189392] \t [0.07358742] \t [17.50171248]\n",
      "4 \t [0.8619378] \t [0.08007989] \t [1.22337588] \t [0.07044622] \t [18.3307153]\n",
      "5 \t [0.80777708] \t [0.08643004] \t [0.76693778] \t [0.06667701] \t [18.73984045]\n",
      "6 \t [0.66112671] \t [0.08893696] \t [0.43981524] \t [0.06345694] \t [18.44098349]\n",
      "7 \t [0.49056183] \t [0.08898872] \t [0.2659187] \t [0.06115591] \t [18.15470398]\n",
      "8 \t [0.33790867] \t [0.08775237] \t [0.21588676] \t [0.0597618] \t [18.07338932]\n",
      "9 \t [0.22554643] \t [0.0860882] \t [0.19869221] \t [0.05910346] \t [17.35748175]\n",
      "10 \t [0.15845804] \t [0.084523] \t [0.17213206] \t [0.05896614] \t [17.11954596]\n",
      "11 \t [0.12115585] \t [0.08330575] \t [0.13794787] \t [0.05914737] \t [16.91923676]\n",
      "12 \t [0.09785848] \t [0.08249582] \t [0.10443039] \t [0.05947934] \t [16.77937449]\n",
      "13 \t [0.07992533] \t [0.08204353] \t [0.07585605] \t [0.05984729] \t [17.19693644]\n",
      "14 \t [0.06499054] \t [0.08185323] \t [0.05315507] \t [0.06018371] \t [17.15929023]\n"
     ]
    }
   ],
   "source": [
    "import pandas as pd\n",
    "\n",
    "A=pd.read_csv('input_param_A.csv', header=None ).to_numpy()\n",
    "b=pd.read_csv('input_param_b.csv', header=None ).to_numpy()\n",
    "\n",
    "lambda_max=pd.read_csv('input_param_lambdaMax.csv', header=None ).to_numpy()\n",
    "lamda=0.1*lambda_max\n",
    "\n",
    "[x,history] = lasso(A, b, lamda, 1.0, 1.0)"
   ]
  },
  {
   "cell_type": "code",
   "execution_count": 12,
   "metadata": {},
   "outputs": [
    {
     "data": {
      "image/png": "[encoded data removed]",
      "text/plain": [
       "<Figure size 432x288 with 1 Axes>"
      ]
     },
     "metadata": {
      "needs_background": "light"
     },
     "output_type": "display_data"
    }
   ],
   "source": [
    "objval = history.objval\n",
    "objval = objval[objval!=0]\n",
    "plt.plot(np.array(range(objval.size)), objval)\n",
    "plt.show()"
   ]
  },
  {
   "cell_type": "code",
   "execution_count": 13,
   "metadata": {},
   "outputs": [
    {
     "data": {
      "image/png": "[encoded data removed]",
      "text/plain": [
       "<Figure size 432x288 with 1 Axes>"
      ]
     },
     "metadata": {
      "needs_background": "light"
     },
     "output_type": "display_data"
    }
   ],
   "source": [
    "r_norm = history.r_norm\n",
    "r_norm = r_norm[r_norm!=0]\n",
    "eps_pri = history.eps_pri\n",
    "eps_pri = eps_pri[eps_pri!=0]\n",
    "plt.semilogy(np.array(range(r_norm.size)),r_norm)\n",
    "plt.semilogy(np.array(range(eps_pri.size)),eps_pri,linestyle='dashed')\n",
    "plt.show()"
   ]
  },
  {
   "cell_type": "code",
   "execution_count": 14,
   "metadata": {},
   "outputs": [
    {
     "data": {
      "image/png": "[encoded data removed]",
      "text/plain": [
       "<Figure size 432x288 with 1 Axes>"
      ]
     },
     "metadata": {
      "needs_background": "light"
     },
     "output_type": "display_data"
    }
   ],
   "source": [
    "s_norm = history.s_norm\n",
    "s_norm = s_norm[s_norm!=0]\n",
    "eps_dual = history.eps_dual\n",
    "eps_dual = eps_dual[eps_dual!=0]\n",
    "plt.semilogy(np.array(range(s_norm.size)),s_norm)\n",
    "plt.semilogy(np.array(range(eps_dual.size)),eps_dual,linestyle='dashed')\n",
    "plt.show()"
   ]
  },
  {
   "cell_type": "code",
   "execution_count": 15,
   "metadata": {},
   "outputs": [
    {
     "data": {
      "image/png": "[encoded data removed]",
      "text/plain": [
       "<Figure size 432x288 with 1 Axes>"
      ]
     },
     "metadata": {
      "needs_background": "light"
     },
     "output_type": "display_data"
    }
   ],
   "source": [
    "plt.plot(x)\n",
    "plt.show()"
   ]
  },
  {
   "cell_type": "code",
   "execution_count": null,
   "metadata": {},
   "outputs": [],
   "source": []
  },
  {
   "cell_type": "code",
   "execution_count": null,
   "metadata": {},
   "outputs": [],
   "source": []
  }
 ],
 "metadata": {
  "kernelspec": {
   "display_name": "GN",
   "language": "python",
   "name": "gn"
  },
  "language_info": {
   "codemirror_mode": {
    "name": "ipython",
    "version": 3
   },
   "file_extension": ".py",
   "mimetype": "text/x-python",
   "name": "python",
   "nbconvert_exporter": "python",
   "pygments_lexer": "ipython3",
   "version": "3.8.5"
  }
 },
 "nbformat": 4,
 "nbformat_minor": 4
}
